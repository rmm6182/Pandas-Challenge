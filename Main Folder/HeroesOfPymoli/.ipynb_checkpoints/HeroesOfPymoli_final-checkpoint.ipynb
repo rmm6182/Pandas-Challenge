{
 "cells": [
  {
   "cell_type": "markdown",
   "metadata": {},
   "source": [
    "### Note\n",
    "* Instructions have been included for each segment. You do not have to follow them exactly, but they are included to help you think through the steps."
   ]
  },
  {
   "cell_type": "code",
   "execution_count": 1,
   "metadata": {},
   "outputs": [
    {
     "data": {
      "text/html": [
       "<div>\n",
       "<style scoped>\n",
       "    .dataframe tbody tr th:only-of-type {\n",
       "        vertical-align: middle;\n",
       "    }\n",
       "\n",
       "    .dataframe tbody tr th {\n",
       "        vertical-align: top;\n",
       "    }\n",
       "\n",
       "    .dataframe thead th {\n",
       "        text-align: right;\n",
       "    }\n",
       "</style>\n",
       "<table border=\"1\" class=\"dataframe\">\n",
       "  <thead>\n",
       "    <tr style=\"text-align: right;\">\n",
       "      <th></th>\n",
       "      <th>Purchase ID</th>\n",
       "      <th>SN</th>\n",
       "      <th>Age</th>\n",
       "      <th>Gender</th>\n",
       "      <th>Item ID</th>\n",
       "      <th>Item Name</th>\n",
       "      <th>Price</th>\n",
       "    </tr>\n",
       "  </thead>\n",
       "  <tbody>\n",
       "    <tr>\n",
       "      <th>0</th>\n",
       "      <td>0</td>\n",
       "      <td>Lisim78</td>\n",
       "      <td>20</td>\n",
       "      <td>Male</td>\n",
       "      <td>108</td>\n",
       "      <td>Extraction, Quickblade Of Trembling Hands</td>\n",
       "      <td>3.53</td>\n",
       "    </tr>\n",
       "    <tr>\n",
       "      <th>1</th>\n",
       "      <td>1</td>\n",
       "      <td>Lisovynya38</td>\n",
       "      <td>40</td>\n",
       "      <td>Male</td>\n",
       "      <td>143</td>\n",
       "      <td>Frenzied Scimitar</td>\n",
       "      <td>1.56</td>\n",
       "    </tr>\n",
       "    <tr>\n",
       "      <th>2</th>\n",
       "      <td>2</td>\n",
       "      <td>Ithergue48</td>\n",
       "      <td>24</td>\n",
       "      <td>Male</td>\n",
       "      <td>92</td>\n",
       "      <td>Final Critic</td>\n",
       "      <td>4.88</td>\n",
       "    </tr>\n",
       "    <tr>\n",
       "      <th>3</th>\n",
       "      <td>3</td>\n",
       "      <td>Chamassasya86</td>\n",
       "      <td>24</td>\n",
       "      <td>Male</td>\n",
       "      <td>100</td>\n",
       "      <td>Blindscythe</td>\n",
       "      <td>3.27</td>\n",
       "    </tr>\n",
       "    <tr>\n",
       "      <th>4</th>\n",
       "      <td>4</td>\n",
       "      <td>Iskosia90</td>\n",
       "      <td>23</td>\n",
       "      <td>Male</td>\n",
       "      <td>131</td>\n",
       "      <td>Fury</td>\n",
       "      <td>1.44</td>\n",
       "    </tr>\n",
       "  </tbody>\n",
       "</table>\n",
       "</div>"
      ],
      "text/plain": [
       "   Purchase ID             SN  Age Gender  Item ID  \\\n",
       "0            0        Lisim78   20   Male      108   \n",
       "1            1    Lisovynya38   40   Male      143   \n",
       "2            2     Ithergue48   24   Male       92   \n",
       "3            3  Chamassasya86   24   Male      100   \n",
       "4            4      Iskosia90   23   Male      131   \n",
       "\n",
       "                                   Item Name  Price  \n",
       "0  Extraction, Quickblade Of Trembling Hands   3.53  \n",
       "1                          Frenzied Scimitar   1.56  \n",
       "2                               Final Critic   4.88  \n",
       "3                                Blindscythe   3.27  \n",
       "4                                       Fury   1.44  "
      ]
     },
     "execution_count": 1,
     "metadata": {},
     "output_type": "execute_result"
    }
   ],
   "source": [
    "# Dependencies and Setup\n",
    "import pandas as pd\n",
    "\n",
    "# File to Load (Remember to Change These)\n",
    "file_to_load = \"Resources/purchase_data.csv\"\n",
    "\n",
    "# Read Purchasing File and store into Pandas data frame\n",
    "purchase_data = pd.read_csv(file_to_load)\n",
    "purchase_data.head()"
   ]
  },
  {
   "cell_type": "markdown",
   "metadata": {},
   "source": [
    "## Player Count"
   ]
  },
  {
   "cell_type": "markdown",
   "metadata": {},
   "source": [
    "* Display the total number of players\n"
   ]
  },
  {
   "cell_type": "code",
   "execution_count": 2,
   "metadata": {},
   "outputs": [
    {
     "data": {
      "text/html": [
       "<div>\n",
       "<style scoped>\n",
       "    .dataframe tbody tr th:only-of-type {\n",
       "        vertical-align: middle;\n",
       "    }\n",
       "\n",
       "    .dataframe tbody tr th {\n",
       "        vertical-align: top;\n",
       "    }\n",
       "\n",
       "    .dataframe thead th {\n",
       "        text-align: right;\n",
       "    }\n",
       "</style>\n",
       "<table border=\"1\" class=\"dataframe\">\n",
       "  <thead>\n",
       "    <tr style=\"text-align: right;\">\n",
       "      <th></th>\n",
       "      <th>Total Players</th>\n",
       "    </tr>\n",
       "  </thead>\n",
       "  <tbody>\n",
       "    <tr>\n",
       "      <th>0</th>\n",
       "      <td>576</td>\n",
       "    </tr>\n",
       "  </tbody>\n",
       "</table>\n",
       "</div>"
      ],
      "text/plain": [
       "   Total Players\n",
       "0            576"
      ]
     },
     "execution_count": 2,
     "metadata": {},
     "output_type": "execute_result"
    }
   ],
   "source": [
    "#Did a total Player Count by counting the unique players of the length of the data frame; then displayed count in new data frame\n",
    "player_count = len(purchase_data[\"SN\"].unique())\n",
    "total_player = pd.DataFrame({\"Total Players\": [player_count]})\n",
    "\n",
    "total_player.head()"
   ]
  },
  {
   "cell_type": "markdown",
   "metadata": {},
   "source": [
    "## Purchasing Analysis (Total)"
   ]
  },
  {
   "cell_type": "markdown",
   "metadata": {},
   "source": [
    "* Run basic calculations to obtain number of unique items, average price, etc.\n",
    "\n",
    "\n",
    "* Create a summary data frame to hold the results\n",
    "\n",
    "\n",
    "* Optional: give the displayed data cleaner formatting\n",
    "\n",
    "\n",
    "* Display the summary data frame\n"
   ]
  },
  {
   "cell_type": "code",
   "execution_count": 3,
   "metadata": {
    "scrolled": true
   },
   "outputs": [
    {
     "data": {
      "text/html": [
       "<style  type=\"text/css\" >\n",
       "</style><table id=\"T_68f27366_5c14_11ea_9786_681729d5ae93\" ><thead>    <tr>        <th class=\"blank level0\" ></th>        <th class=\"col_heading level0 col0\" >Number of Unique Items</th>        <th class=\"col_heading level0 col1\" >Average Price</th>        <th class=\"col_heading level0 col2\" >Number of Purchases</th>        <th class=\"col_heading level0 col3\" >Total Revenue</th>    </tr></thead><tbody>\n",
       "                <tr>\n",
       "                        <th id=\"T_68f27366_5c14_11ea_9786_681729d5ae93level0_row0\" class=\"row_heading level0 row0\" >0</th>\n",
       "                        <td id=\"T_68f27366_5c14_11ea_9786_681729d5ae93row0_col0\" class=\"data row0 col0\" >179</td>\n",
       "                        <td id=\"T_68f27366_5c14_11ea_9786_681729d5ae93row0_col1\" class=\"data row0 col1\" >$3.05</td>\n",
       "                        <td id=\"T_68f27366_5c14_11ea_9786_681729d5ae93row0_col2\" class=\"data row0 col2\" >780</td>\n",
       "                        <td id=\"T_68f27366_5c14_11ea_9786_681729d5ae93row0_col3\" class=\"data row0 col3\" >$2,379.77</td>\n",
       "            </tr>\n",
       "    </tbody></table>"
      ],
      "text/plain": [
       "<pandas.io.formats.style.Styler at 0x1d66051c348>"
      ]
     },
     "execution_count": 3,
     "metadata": {},
     "output_type": "execute_result"
    }
   ],
   "source": [
    "#creating variables to input into data frame\n",
    "unique_items = len(purchase_data[\"Item Name\"].unique())\n",
    "total_rev = sum(purchase_data[\"Price\"])\n",
    "price_avg = purchase_data[\"Price\"].mean()\n",
    "num_purch = purchase_data[\"SN\"].count()\n",
    "\n",
    "#setting up my data frame with my column names:variable\n",
    "summary_df = pd.DataFrame({\"Number of Unique Items\": [unique_items],\n",
    "                          \"Average Price\": [price_avg], \"Number of Purchases\":[num_purch],\n",
    "                           \"Total Revenue\":[total_rev]})\n",
    "\n",
    "#in order for style to work -> have to do it at the data base level; then do the columns that need format\n",
    "summary_df.head().style.format({\"Average Price\": \"${:0,.2f}\", \n",
    "                                 \"Total Revenue\": \"${:0,.2f}\"})\n"
   ]
  },
  {
   "cell_type": "markdown",
   "metadata": {},
   "source": [
    "## Gender Demographics"
   ]
  },
  {
   "cell_type": "markdown",
   "metadata": {},
   "source": [
    "* Percentage and Count of Male Players\n",
    "\n",
    "\n",
    "* Percentage and Count of Female Players\n",
    "\n",
    "\n",
    "* Percentage and Count of Other / Non-Disclosed\n",
    "\n",
    "\n"
   ]
  },
  {
   "cell_type": "code",
   "execution_count": 4,
   "metadata": {},
   "outputs": [
    {
     "data": {
      "text/html": [
       "<style  type=\"text/css\" >\n",
       "</style><table id=\"T_68f6dfa4_5c14_11ea_8d8c_681729d5ae93\" ><thead>    <tr>        <th class=\"blank level0\" ></th>        <th class=\"col_heading level0 col0\" >Total Counts</th>        <th class=\"col_heading level0 col1\" >Percentage of Players</th>    </tr></thead><tbody>\n",
       "                <tr>\n",
       "                        <th id=\"T_68f6dfa4_5c14_11ea_8d8c_681729d5ae93level0_row0\" class=\"row_heading level0 row0\" >Male</th>\n",
       "                        <td id=\"T_68f6dfa4_5c14_11ea_8d8c_681729d5ae93row0_col0\" class=\"data row0 col0\" >484</td>\n",
       "                        <td id=\"T_68f6dfa4_5c14_11ea_8d8c_681729d5ae93row0_col1\" class=\"data row0 col1\" >84.03%</td>\n",
       "            </tr>\n",
       "            <tr>\n",
       "                        <th id=\"T_68f6dfa4_5c14_11ea_8d8c_681729d5ae93level0_row1\" class=\"row_heading level0 row1\" >Female</th>\n",
       "                        <td id=\"T_68f6dfa4_5c14_11ea_8d8c_681729d5ae93row1_col0\" class=\"data row1 col0\" >81</td>\n",
       "                        <td id=\"T_68f6dfa4_5c14_11ea_8d8c_681729d5ae93row1_col1\" class=\"data row1 col1\" >14.06%</td>\n",
       "            </tr>\n",
       "            <tr>\n",
       "                        <th id=\"T_68f6dfa4_5c14_11ea_8d8c_681729d5ae93level0_row2\" class=\"row_heading level0 row2\" >Other / Non-Disclosed</th>\n",
       "                        <td id=\"T_68f6dfa4_5c14_11ea_8d8c_681729d5ae93row2_col0\" class=\"data row2 col0\" >11</td>\n",
       "                        <td id=\"T_68f6dfa4_5c14_11ea_8d8c_681729d5ae93row2_col1\" class=\"data row2 col1\" >1.91%</td>\n",
       "            </tr>\n",
       "    </tbody></table>"
      ],
      "text/plain": [
       "<pandas.io.formats.style.Styler at 0x1d663457748>"
      ]
     },
     "execution_count": 4,
     "metadata": {},
     "output_type": "execute_result"
    }
   ],
   "source": [
    "#creating variables to input into dataframe\n",
    "unique_player = purchase_data.drop_duplicates(subset='SN')\n",
    "total_count = unique_player['Gender'].value_counts()\n",
    "total_percent = unique_player['Gender'].value_counts('Male')\n",
    "\n",
    "gender_percents = total_percent * 100\n",
    "\n",
    "#setting up my data frame with my column names:variable\n",
    "genderCount_df = pd.DataFrame({\"Total Counts\": total_count,\n",
    "                          \"Percentage of Players\": gender_percents})\n",
    "\n",
    "#Display Gender counts and percentages\n",
    "genderCount_df.head().style.format({\"Percentage of Players\": \"{:0,.2f}%\"})\n"
   ]
  },
  {
   "cell_type": "markdown",
   "metadata": {},
   "source": [
    "\n",
    "## Purchasing Analysis (Gender)"
   ]
  },
  {
   "cell_type": "markdown",
   "metadata": {},
   "source": [
    "* Run basic calculations to obtain purchase count, avg. purchase price, avg. purchase total per person etc. by gender\n",
    "\n",
    "\n",
    "\n",
    "\n",
    "* Create a summary data frame to hold the results\n",
    "\n",
    "\n",
    "* Optional: give the displayed data cleaner formatting\n",
    "\n",
    "\n",
    "* Display the summary data frame"
   ]
  },
  {
   "cell_type": "code",
   "execution_count": 5,
   "metadata": {},
   "outputs": [
    {
     "data": {
      "text/html": [
       "<style  type=\"text/css\" >\n",
       "</style><table id=\"T_68f92934_5c14_11ea_b6ba_681729d5ae93\" ><thead>    <tr>        <th class=\"blank level0\" ></th>        <th class=\"col_heading level0 col0\" >Purchase Count</th>        <th class=\"col_heading level0 col1\" >Average Purchase Price</th>        <th class=\"col_heading level0 col2\" >Total Purchase Value</th>        <th class=\"col_heading level0 col3\" >Avg Purchase per Person</th>    </tr>    <tr>        <th class=\"index_name level0\" >Gender</th>        <th class=\"blank\" ></th>        <th class=\"blank\" ></th>        <th class=\"blank\" ></th>        <th class=\"blank\" ></th>    </tr></thead><tbody>\n",
       "                <tr>\n",
       "                        <th id=\"T_68f92934_5c14_11ea_b6ba_681729d5ae93level0_row0\" class=\"row_heading level0 row0\" >Female</th>\n",
       "                        <td id=\"T_68f92934_5c14_11ea_b6ba_681729d5ae93row0_col0\" class=\"data row0 col0\" >113</td>\n",
       "                        <td id=\"T_68f92934_5c14_11ea_b6ba_681729d5ae93row0_col1\" class=\"data row0 col1\" >$3.20</td>\n",
       "                        <td id=\"T_68f92934_5c14_11ea_b6ba_681729d5ae93row0_col2\" class=\"data row0 col2\" >$361.94</td>\n",
       "                        <td id=\"T_68f92934_5c14_11ea_b6ba_681729d5ae93row0_col3\" class=\"data row0 col3\" >$4.47</td>\n",
       "            </tr>\n",
       "            <tr>\n",
       "                        <th id=\"T_68f92934_5c14_11ea_b6ba_681729d5ae93level0_row1\" class=\"row_heading level0 row1\" >Male</th>\n",
       "                        <td id=\"T_68f92934_5c14_11ea_b6ba_681729d5ae93row1_col0\" class=\"data row1 col0\" >652</td>\n",
       "                        <td id=\"T_68f92934_5c14_11ea_b6ba_681729d5ae93row1_col1\" class=\"data row1 col1\" >$3.02</td>\n",
       "                        <td id=\"T_68f92934_5c14_11ea_b6ba_681729d5ae93row1_col2\" class=\"data row1 col2\" >$1,967.64</td>\n",
       "                        <td id=\"T_68f92934_5c14_11ea_b6ba_681729d5ae93row1_col3\" class=\"data row1 col3\" >$4.07</td>\n",
       "            </tr>\n",
       "            <tr>\n",
       "                        <th id=\"T_68f92934_5c14_11ea_b6ba_681729d5ae93level0_row2\" class=\"row_heading level0 row2\" >Other / Non-Disclosed</th>\n",
       "                        <td id=\"T_68f92934_5c14_11ea_b6ba_681729d5ae93row2_col0\" class=\"data row2 col0\" >15</td>\n",
       "                        <td id=\"T_68f92934_5c14_11ea_b6ba_681729d5ae93row2_col1\" class=\"data row2 col1\" >$3.35</td>\n",
       "                        <td id=\"T_68f92934_5c14_11ea_b6ba_681729d5ae93row2_col2\" class=\"data row2 col2\" >$50.19</td>\n",
       "                        <td id=\"T_68f92934_5c14_11ea_b6ba_681729d5ae93row2_col3\" class=\"data row2 col3\" >$4.56</td>\n",
       "            </tr>\n",
       "    </tbody></table>"
      ],
      "text/plain": [
       "<pandas.io.formats.style.Styler at 0x1d662f49048>"
      ]
     },
     "execution_count": 5,
     "metadata": {},
     "output_type": "execute_result"
    }
   ],
   "source": [
    "#creating grouped data frame based on Gender in purchase data frame\n",
    "grouped_df = purchase_data.groupby([\"Gender\"])\n",
    "\n",
    "#creating variables to find the amounts\n",
    "avg_price_group = grouped_df['Price'].mean()\n",
    "total_purch_group = grouped_df['Price'].sum()\n",
    "purch_per_person = total_purch_group/total_count\n",
    "purchase_count = grouped_df['Purchase ID'].count()\n",
    "\n",
    "#put variables into a data frame\n",
    "group_summary_df = pd.DataFrame({\"Purchase Count\":purchase_count,\"Average Purchase Price\": avg_price_group,\n",
    "                          \"Total Purchase Value\": total_purch_group,\"Avg Purchase per Person\":purch_per_person})\n",
    "\n",
    "#display Gender purchasing data frame\n",
    "group_summary_df.head().style.format({\"Average Purchase Price\": \"${:0,.2f}\", \n",
    "                                 \"Total Purchase Value\": \"${:0,.2f}\",\"Avg Purchase per Person\": \"${:0,.2f}\"})"
   ]
  },
  {
   "cell_type": "markdown",
   "metadata": {},
   "source": [
    "## Age Demographics"
   ]
  },
  {
   "cell_type": "markdown",
   "metadata": {},
   "source": [
    "* Establish bins for ages\n",
    "\n",
    "\n",
    "* Categorize the existing players using the age bins. Hint: use pd.cut()\n",
    "\n",
    "\n",
    "* Calculate the numbers and percentages by age group\n",
    "\n",
    "\n",
    "* Create a summary data frame to hold the results\n",
    "\n",
    "\n",
    "* Optional: round the percentage column to two decimal points\n",
    "\n",
    "\n",
    "* Display Age Demographics Table\n"
   ]
  },
  {
   "cell_type": "code",
   "execution_count": 6,
   "metadata": {},
   "outputs": [
    {
     "name": "stderr",
     "output_type": "stream",
     "text": [
      "C:\\Users\\Zech\\Anaconda3\\lib\\site-packages\\ipykernel_launcher.py:4: SettingWithCopyWarning: \n",
      "A value is trying to be set on a copy of a slice from a DataFrame.\n",
      "Try using .loc[row_indexer,col_indexer] = value instead\n",
      "\n",
      "See the caveats in the documentation: https://pandas.pydata.org/pandas-docs/stable/user_guide/indexing.html#returning-a-view-versus-a-copy\n",
      "  after removing the cwd from sys.path.\n"
     ]
    },
    {
     "data": {
      "text/html": [
       "<style  type=\"text/css\" >\n",
       "</style><table id=\"T_68fcab24_5c14_11ea_9e64_681729d5ae93\" ><thead>    <tr>        <th class=\"blank level0\" ></th>        <th class=\"col_heading level0 col0\" >Total Counts</th>        <th class=\"col_heading level0 col1\" >Percentage of Players</th>    </tr>    <tr>        <th class=\"index_name level0\" >Age Ranges</th>        <th class=\"blank\" ></th>        <th class=\"blank\" ></th>    </tr></thead><tbody>\n",
       "                <tr>\n",
       "                        <th id=\"T_68fcab24_5c14_11ea_9e64_681729d5ae93level0_row0\" class=\"row_heading level0 row0\" ><10</th>\n",
       "                        <td id=\"T_68fcab24_5c14_11ea_9e64_681729d5ae93row0_col0\" class=\"data row0 col0\" >17</td>\n",
       "                        <td id=\"T_68fcab24_5c14_11ea_9e64_681729d5ae93row0_col1\" class=\"data row0 col1\" >2.95%</td>\n",
       "            </tr>\n",
       "            <tr>\n",
       "                        <th id=\"T_68fcab24_5c14_11ea_9e64_681729d5ae93level0_row1\" class=\"row_heading level0 row1\" >10-14</th>\n",
       "                        <td id=\"T_68fcab24_5c14_11ea_9e64_681729d5ae93row1_col0\" class=\"data row1 col0\" >22</td>\n",
       "                        <td id=\"T_68fcab24_5c14_11ea_9e64_681729d5ae93row1_col1\" class=\"data row1 col1\" >3.82%</td>\n",
       "            </tr>\n",
       "            <tr>\n",
       "                        <th id=\"T_68fcab24_5c14_11ea_9e64_681729d5ae93level0_row2\" class=\"row_heading level0 row2\" >15-19</th>\n",
       "                        <td id=\"T_68fcab24_5c14_11ea_9e64_681729d5ae93row2_col0\" class=\"data row2 col0\" >107</td>\n",
       "                        <td id=\"T_68fcab24_5c14_11ea_9e64_681729d5ae93row2_col1\" class=\"data row2 col1\" >18.58%</td>\n",
       "            </tr>\n",
       "            <tr>\n",
       "                        <th id=\"T_68fcab24_5c14_11ea_9e64_681729d5ae93level0_row3\" class=\"row_heading level0 row3\" >20-24</th>\n",
       "                        <td id=\"T_68fcab24_5c14_11ea_9e64_681729d5ae93row3_col0\" class=\"data row3 col0\" >258</td>\n",
       "                        <td id=\"T_68fcab24_5c14_11ea_9e64_681729d5ae93row3_col1\" class=\"data row3 col1\" >44.79%</td>\n",
       "            </tr>\n",
       "            <tr>\n",
       "                        <th id=\"T_68fcab24_5c14_11ea_9e64_681729d5ae93level0_row4\" class=\"row_heading level0 row4\" >25-29</th>\n",
       "                        <td id=\"T_68fcab24_5c14_11ea_9e64_681729d5ae93row4_col0\" class=\"data row4 col0\" >77</td>\n",
       "                        <td id=\"T_68fcab24_5c14_11ea_9e64_681729d5ae93row4_col1\" class=\"data row4 col1\" >13.37%</td>\n",
       "            </tr>\n",
       "            <tr>\n",
       "                        <th id=\"T_68fcab24_5c14_11ea_9e64_681729d5ae93level0_row5\" class=\"row_heading level0 row5\" >30-34</th>\n",
       "                        <td id=\"T_68fcab24_5c14_11ea_9e64_681729d5ae93row5_col0\" class=\"data row5 col0\" >52</td>\n",
       "                        <td id=\"T_68fcab24_5c14_11ea_9e64_681729d5ae93row5_col1\" class=\"data row5 col1\" >9.03%</td>\n",
       "            </tr>\n",
       "            <tr>\n",
       "                        <th id=\"T_68fcab24_5c14_11ea_9e64_681729d5ae93level0_row6\" class=\"row_heading level0 row6\" >35-39</th>\n",
       "                        <td id=\"T_68fcab24_5c14_11ea_9e64_681729d5ae93row6_col0\" class=\"data row6 col0\" >31</td>\n",
       "                        <td id=\"T_68fcab24_5c14_11ea_9e64_681729d5ae93row6_col1\" class=\"data row6 col1\" >5.38%</td>\n",
       "            </tr>\n",
       "            <tr>\n",
       "                        <th id=\"T_68fcab24_5c14_11ea_9e64_681729d5ae93level0_row7\" class=\"row_heading level0 row7\" >40+</th>\n",
       "                        <td id=\"T_68fcab24_5c14_11ea_9e64_681729d5ae93row7_col0\" class=\"data row7 col0\" >12</td>\n",
       "                        <td id=\"T_68fcab24_5c14_11ea_9e64_681729d5ae93row7_col1\" class=\"data row7 col1\" >2.08%</td>\n",
       "            </tr>\n",
       "    </tbody></table>"
      ],
      "text/plain": [
       "<pandas.io.formats.style.Styler at 0x1d663487f08>"
      ]
     },
     "execution_count": 6,
     "metadata": {},
     "output_type": "execute_result"
    }
   ],
   "source": [
    "#create bins with age ranges; create group names for the bins to go into\n",
    "bins = [0, 9, 14, 19, 24, 29, 34, 39, 100]\n",
    "age_names = [\"<10\",\"10-14\",\"15-19\",\"20-24\",\"25-29\",\"30-34\",\"35-39\",\"40+\"]\n",
    "\n",
    "#sort the Age into the bins\n",
    "unique_player[\"Age Ranges\"] = pd.cut(unique_player[\"Age\"], bins, labels=age_names)\n",
    "\n",
    "#create a group by the Age Range bin we created above\n",
    "age_group= unique_player.groupby([\"Age Ranges\"])\n",
    "\n",
    "#create variables \n",
    "age_count = age_group['Age'].count()\n",
    "age_total = age_count.sum()\n",
    "age_percent = (age_count/age_total)*100\n",
    "\n",
    "#create data frame for new variables \n",
    "age_sum_df = pd.DataFrame({\"Total Counts\": age_count,\"Percentage of Players\":age_percent})\n",
    "\n",
    "#display data frame -> not sure why getting red message; numbers appear correct\n",
    "age_sum_df.head(10).style.format({\"Percentage of Players\": \"{:0,.2f}%\"})\n"
   ]
  },
  {
   "cell_type": "markdown",
   "metadata": {},
   "source": [
    "## Purchasing Analysis (Age)"
   ]
  },
  {
   "cell_type": "markdown",
   "metadata": {},
   "source": [
    "* Bin the purchase_data data frame by age\n",
    "\n",
    "\n",
    "* Run basic calculations to obtain purchase count, avg. purchase price, avg. purchase total per person etc. in the table below\n",
    "\n",
    "\n",
    "* Create a summary data frame to hold the results\n",
    "\n",
    "\n",
    "* Optional: give the displayed data cleaner formatting\n",
    "\n",
    "\n",
    "* Display the summary data frame"
   ]
  },
  {
   "cell_type": "code",
   "execution_count": 7,
   "metadata": {},
   "outputs": [
    {
     "data": {
      "text/html": [
       "<style  type=\"text/css\" >\n",
       "</style><table id=\"T_69002d92_5c14_11ea_91df_681729d5ae93\" ><thead>    <tr>        <th class=\"blank level0\" ></th>        <th class=\"col_heading level0 col0\" >Purchase Count</th>        <th class=\"col_heading level0 col1\" >Average Purchase Price</th>        <th class=\"col_heading level0 col2\" >Total Purchase Value</th>        <th class=\"col_heading level0 col3\" >Avg Total Purchase per Person</th>    </tr>    <tr>        <th class=\"index_name level0\" >Age Ranges</th>        <th class=\"blank\" ></th>        <th class=\"blank\" ></th>        <th class=\"blank\" ></th>        <th class=\"blank\" ></th>    </tr></thead><tbody>\n",
       "                <tr>\n",
       "                        <th id=\"T_69002d92_5c14_11ea_91df_681729d5ae93level0_row0\" class=\"row_heading level0 row0\" ><10</th>\n",
       "                        <td id=\"T_69002d92_5c14_11ea_91df_681729d5ae93row0_col0\" class=\"data row0 col0\" >23</td>\n",
       "                        <td id=\"T_69002d92_5c14_11ea_91df_681729d5ae93row0_col1\" class=\"data row0 col1\" >$3.35</td>\n",
       "                        <td id=\"T_69002d92_5c14_11ea_91df_681729d5ae93row0_col2\" class=\"data row0 col2\" >$77.13</td>\n",
       "                        <td id=\"T_69002d92_5c14_11ea_91df_681729d5ae93row0_col3\" class=\"data row0 col3\" >$4.54</td>\n",
       "            </tr>\n",
       "            <tr>\n",
       "                        <th id=\"T_69002d92_5c14_11ea_91df_681729d5ae93level0_row1\" class=\"row_heading level0 row1\" >10-14</th>\n",
       "                        <td id=\"T_69002d92_5c14_11ea_91df_681729d5ae93row1_col0\" class=\"data row1 col0\" >28</td>\n",
       "                        <td id=\"T_69002d92_5c14_11ea_91df_681729d5ae93row1_col1\" class=\"data row1 col1\" >$2.96</td>\n",
       "                        <td id=\"T_69002d92_5c14_11ea_91df_681729d5ae93row1_col2\" class=\"data row1 col2\" >$82.78</td>\n",
       "                        <td id=\"T_69002d92_5c14_11ea_91df_681729d5ae93row1_col3\" class=\"data row1 col3\" >$3.76</td>\n",
       "            </tr>\n",
       "            <tr>\n",
       "                        <th id=\"T_69002d92_5c14_11ea_91df_681729d5ae93level0_row2\" class=\"row_heading level0 row2\" >15-19</th>\n",
       "                        <td id=\"T_69002d92_5c14_11ea_91df_681729d5ae93row2_col0\" class=\"data row2 col0\" >136</td>\n",
       "                        <td id=\"T_69002d92_5c14_11ea_91df_681729d5ae93row2_col1\" class=\"data row2 col1\" >$3.04</td>\n",
       "                        <td id=\"T_69002d92_5c14_11ea_91df_681729d5ae93row2_col2\" class=\"data row2 col2\" >$412.89</td>\n",
       "                        <td id=\"T_69002d92_5c14_11ea_91df_681729d5ae93row2_col3\" class=\"data row2 col3\" >$3.86</td>\n",
       "            </tr>\n",
       "            <tr>\n",
       "                        <th id=\"T_69002d92_5c14_11ea_91df_681729d5ae93level0_row3\" class=\"row_heading level0 row3\" >20-24</th>\n",
       "                        <td id=\"T_69002d92_5c14_11ea_91df_681729d5ae93row3_col0\" class=\"data row3 col0\" >365</td>\n",
       "                        <td id=\"T_69002d92_5c14_11ea_91df_681729d5ae93row3_col1\" class=\"data row3 col1\" >$3.05</td>\n",
       "                        <td id=\"T_69002d92_5c14_11ea_91df_681729d5ae93row3_col2\" class=\"data row3 col2\" >$1,114.06</td>\n",
       "                        <td id=\"T_69002d92_5c14_11ea_91df_681729d5ae93row3_col3\" class=\"data row3 col3\" >$4.32</td>\n",
       "            </tr>\n",
       "            <tr>\n",
       "                        <th id=\"T_69002d92_5c14_11ea_91df_681729d5ae93level0_row4\" class=\"row_heading level0 row4\" >25-29</th>\n",
       "                        <td id=\"T_69002d92_5c14_11ea_91df_681729d5ae93row4_col0\" class=\"data row4 col0\" >101</td>\n",
       "                        <td id=\"T_69002d92_5c14_11ea_91df_681729d5ae93row4_col1\" class=\"data row4 col1\" >$2.90</td>\n",
       "                        <td id=\"T_69002d92_5c14_11ea_91df_681729d5ae93row4_col2\" class=\"data row4 col2\" >$293.00</td>\n",
       "                        <td id=\"T_69002d92_5c14_11ea_91df_681729d5ae93row4_col3\" class=\"data row4 col3\" >$3.81</td>\n",
       "            </tr>\n",
       "            <tr>\n",
       "                        <th id=\"T_69002d92_5c14_11ea_91df_681729d5ae93level0_row5\" class=\"row_heading level0 row5\" >30-34</th>\n",
       "                        <td id=\"T_69002d92_5c14_11ea_91df_681729d5ae93row5_col0\" class=\"data row5 col0\" >73</td>\n",
       "                        <td id=\"T_69002d92_5c14_11ea_91df_681729d5ae93row5_col1\" class=\"data row5 col1\" >$2.93</td>\n",
       "                        <td id=\"T_69002d92_5c14_11ea_91df_681729d5ae93row5_col2\" class=\"data row5 col2\" >$214.00</td>\n",
       "                        <td id=\"T_69002d92_5c14_11ea_91df_681729d5ae93row5_col3\" class=\"data row5 col3\" >$4.12</td>\n",
       "            </tr>\n",
       "            <tr>\n",
       "                        <th id=\"T_69002d92_5c14_11ea_91df_681729d5ae93level0_row6\" class=\"row_heading level0 row6\" >35-39</th>\n",
       "                        <td id=\"T_69002d92_5c14_11ea_91df_681729d5ae93row6_col0\" class=\"data row6 col0\" >41</td>\n",
       "                        <td id=\"T_69002d92_5c14_11ea_91df_681729d5ae93row6_col1\" class=\"data row6 col1\" >$3.60</td>\n",
       "                        <td id=\"T_69002d92_5c14_11ea_91df_681729d5ae93row6_col2\" class=\"data row6 col2\" >$147.67</td>\n",
       "                        <td id=\"T_69002d92_5c14_11ea_91df_681729d5ae93row6_col3\" class=\"data row6 col3\" >$4.76</td>\n",
       "            </tr>\n",
       "            <tr>\n",
       "                        <th id=\"T_69002d92_5c14_11ea_91df_681729d5ae93level0_row7\" class=\"row_heading level0 row7\" >40+</th>\n",
       "                        <td id=\"T_69002d92_5c14_11ea_91df_681729d5ae93row7_col0\" class=\"data row7 col0\" >13</td>\n",
       "                        <td id=\"T_69002d92_5c14_11ea_91df_681729d5ae93row7_col1\" class=\"data row7 col1\" >$2.94</td>\n",
       "                        <td id=\"T_69002d92_5c14_11ea_91df_681729d5ae93row7_col2\" class=\"data row7 col2\" >$38.24</td>\n",
       "                        <td id=\"T_69002d92_5c14_11ea_91df_681729d5ae93row7_col3\" class=\"data row7 col3\" >$3.19</td>\n",
       "            </tr>\n",
       "    </tbody></table>"
      ],
      "text/plain": [
       "<pandas.io.formats.style.Styler at 0x1d662ff01c8>"
      ]
     },
     "execution_count": 7,
     "metadata": {},
     "output_type": "execute_result"
    }
   ],
   "source": [
    "#using bins from the last data set\n",
    "purchase_data[\"Age Ranges\"] = pd.cut(purchase_data[\"Age\"], bins, labels=age_names)\n",
    "\n",
    "#create another data frame for grouped Age Ranges \n",
    "age_range_group= purchase_data.groupby([\"Age Ranges\"])\n",
    "\n",
    "#create the unique variables\n",
    "purch_count = age_range_group['Purchase ID'].count()\n",
    "price_avg_age = age_range_group['Price'].mean()\n",
    "purch_total_person = age_range_group['Price'].sum()\n",
    "purch_per_person = purch_total_person/age_count\n",
    "\n",
    "#create data frame to put variables in\n",
    "age_summary_df = pd.DataFrame({\"Purchase Count\":purch_count,\"Average Purchase Price\": price_avg_age,\n",
    "                          \"Total Purchase Value\": purch_total_person,\"Avg Total Purchase per Person\": purch_per_person})\n",
    "\n",
    "#display data frame for ages with purchasing information\n",
    "age_summary_df.head(10).style.format({\"Average Purchase Price\": \"${:0,.2f}\", \n",
    "                                 \"Total Purchase Value\": \"${:0,.2f}\",\"Avg Purchase Price per Person\": \"${:0,.2f}\",\n",
    "                                      \"Avg Total Purchase per Person\": \"${:0,.2f}\"})"
   ]
  },
  {
   "cell_type": "markdown",
   "metadata": {},
   "source": [
    "## Top Spenders"
   ]
  },
  {
   "cell_type": "markdown",
   "metadata": {},
   "source": [
    "* Run basic calculations to obtain the results in the table below\n",
    "\n",
    "\n",
    "* Create a summary data frame to hold the results\n",
    "\n",
    "\n",
    "* Sort the total purchase value column in descending order\n",
    "\n",
    "\n",
    "* Optional: give the displayed data cleaner formatting\n",
    "\n",
    "\n",
    "* Display a preview of the summary data frame\n",
    "\n"
   ]
  },
  {
   "cell_type": "code",
   "execution_count": 8,
   "metadata": {},
   "outputs": [
    {
     "data": {
      "text/html": [
       "<style  type=\"text/css\" >\n",
       "</style><table id=\"T_6903d608_5c14_11ea_aafe_681729d5ae93\" ><thead>    <tr>        <th class=\"blank level0\" ></th>        <th class=\"col_heading level0 col0\" >Purchase Count</th>        <th class=\"col_heading level0 col1\" >Average Price</th>        <th class=\"col_heading level0 col2\" >Total Purchase Value</th>    </tr>    <tr>        <th class=\"index_name level0\" >SN</th>        <th class=\"blank\" ></th>        <th class=\"blank\" ></th>        <th class=\"blank\" ></th>    </tr></thead><tbody>\n",
       "                <tr>\n",
       "                        <th id=\"T_6903d608_5c14_11ea_aafe_681729d5ae93level0_row0\" class=\"row_heading level0 row0\" >Lisosia93</th>\n",
       "                        <td id=\"T_6903d608_5c14_11ea_aafe_681729d5ae93row0_col0\" class=\"data row0 col0\" >5</td>\n",
       "                        <td id=\"T_6903d608_5c14_11ea_aafe_681729d5ae93row0_col1\" class=\"data row0 col1\" >$3.79</td>\n",
       "                        <td id=\"T_6903d608_5c14_11ea_aafe_681729d5ae93row0_col2\" class=\"data row0 col2\" >$18.96</td>\n",
       "            </tr>\n",
       "            <tr>\n",
       "                        <th id=\"T_6903d608_5c14_11ea_aafe_681729d5ae93level0_row1\" class=\"row_heading level0 row1\" >Idastidru52</th>\n",
       "                        <td id=\"T_6903d608_5c14_11ea_aafe_681729d5ae93row1_col0\" class=\"data row1 col0\" >4</td>\n",
       "                        <td id=\"T_6903d608_5c14_11ea_aafe_681729d5ae93row1_col1\" class=\"data row1 col1\" >$3.86</td>\n",
       "                        <td id=\"T_6903d608_5c14_11ea_aafe_681729d5ae93row1_col2\" class=\"data row1 col2\" >$15.45</td>\n",
       "            </tr>\n",
       "            <tr>\n",
       "                        <th id=\"T_6903d608_5c14_11ea_aafe_681729d5ae93level0_row2\" class=\"row_heading level0 row2\" >Iral74</th>\n",
       "                        <td id=\"T_6903d608_5c14_11ea_aafe_681729d5ae93row2_col0\" class=\"data row2 col0\" >4</td>\n",
       "                        <td id=\"T_6903d608_5c14_11ea_aafe_681729d5ae93row2_col1\" class=\"data row2 col1\" >$3.40</td>\n",
       "                        <td id=\"T_6903d608_5c14_11ea_aafe_681729d5ae93row2_col2\" class=\"data row2 col2\" >$13.62</td>\n",
       "            </tr>\n",
       "            <tr>\n",
       "                        <th id=\"T_6903d608_5c14_11ea_aafe_681729d5ae93level0_row3\" class=\"row_heading level0 row3\" >Chamjask73</th>\n",
       "                        <td id=\"T_6903d608_5c14_11ea_aafe_681729d5ae93row3_col0\" class=\"data row3 col0\" >3</td>\n",
       "                        <td id=\"T_6903d608_5c14_11ea_aafe_681729d5ae93row3_col1\" class=\"data row3 col1\" >$4.61</td>\n",
       "                        <td id=\"T_6903d608_5c14_11ea_aafe_681729d5ae93row3_col2\" class=\"data row3 col2\" >$13.83</td>\n",
       "            </tr>\n",
       "            <tr>\n",
       "                        <th id=\"T_6903d608_5c14_11ea_aafe_681729d5ae93level0_row4\" class=\"row_heading level0 row4\" >Iskadarya95</th>\n",
       "                        <td id=\"T_6903d608_5c14_11ea_aafe_681729d5ae93row4_col0\" class=\"data row4 col0\" >3</td>\n",
       "                        <td id=\"T_6903d608_5c14_11ea_aafe_681729d5ae93row4_col1\" class=\"data row4 col1\" >$4.37</td>\n",
       "                        <td id=\"T_6903d608_5c14_11ea_aafe_681729d5ae93row4_col2\" class=\"data row4 col2\" >$13.10</td>\n",
       "            </tr>\n",
       "    </tbody></table>"
      ],
      "text/plain": [
       "<pandas.io.formats.style.Styler at 0x1d6634a60c8>"
      ]
     },
     "execution_count": 8,
     "metadata": {},
     "output_type": "execute_result"
    }
   ],
   "source": [
    "#create data frame with grouped player names\n",
    "player_group_df = purchase_data.groupby('SN')\n",
    "\n",
    "#create variables\n",
    "purchases_player = player_group_df['Purchase ID'].count()\n",
    "avg_price = player_group_df['Price'].mean()\n",
    "total_purch_value = player_group_df['Price'].sum()\n",
    "\n",
    "#put variables into data frame\n",
    "top_purch_df = pd.DataFrame({\"Purchase Count\":purchases_player,\"Average Price\":avg_price, \n",
    "                            \"Total Purchase Value\":total_purch_value})\n",
    "\n",
    "#sort the values by purchase count then avg price then total purch value\n",
    "top_purch_df=top_purch_df.sort_values(by=['Purchase Count','Average Price','Total Purchase Value'],ascending = False)\n",
    "\n",
    "#display player with most purchases \n",
    "top_purch_df.head().style.format({\"Average Price\": \"${:0,.2f}\", \n",
    "                                 \"Total Purchase Value\": \"${:0,.2f}\"})"
   ]
  },
  {
   "cell_type": "markdown",
   "metadata": {},
   "source": [
    "## Most Popular Items"
   ]
  },
  {
   "cell_type": "markdown",
   "metadata": {},
   "source": [
    "* Retrieve the Item ID, Item Name, and Item Price columns\n",
    "\n",
    "\n",
    "* Group by Item ID and Item Name. Perform calculations to obtain purchase count, item price, and total purchase value\n",
    "\n",
    "\n",
    "* Create a summary data frame to hold the results\n",
    "\n",
    "\n",
    "* Sort the purchase count column in descending order\n",
    "\n",
    "\n",
    "* Optional: give the displayed data cleaner formatting\n",
    "\n",
    "\n",
    "* Display a preview of the summary data frame\n",
    "\n"
   ]
  },
  {
   "cell_type": "code",
   "execution_count": 9,
   "metadata": {},
   "outputs": [
    {
     "data": {
      "text/html": [
       "<style  type=\"text/css\" >\n",
       "</style><table id=\"T_69077f78_5c14_11ea_a025_681729d5ae93\" ><thead>    <tr>        <th class=\"blank\" ></th>        <th class=\"blank level0\" ></th>        <th class=\"col_heading level0 col0\" >Purchase Count</th>        <th class=\"col_heading level0 col1\" >Item Price</th>        <th class=\"col_heading level0 col2\" >Total Purchase Value</th>    </tr>    <tr>        <th class=\"index_name level0\" >Item ID</th>        <th class=\"index_name level1\" >Item Name</th>        <th class=\"blank\" ></th>        <th class=\"blank\" ></th>        <th class=\"blank\" ></th>    </tr></thead><tbody>\n",
       "                <tr>\n",
       "                        <th id=\"T_69077f78_5c14_11ea_a025_681729d5ae93level0_row0\" class=\"row_heading level0 row0\" >178</th>\n",
       "                        <th id=\"T_69077f78_5c14_11ea_a025_681729d5ae93level1_row0\" class=\"row_heading level1 row0\" >Oathbreaker, Last Hope of the Breaking Storm</th>\n",
       "                        <td id=\"T_69077f78_5c14_11ea_a025_681729d5ae93row0_col0\" class=\"data row0 col0\" >12</td>\n",
       "                        <td id=\"T_69077f78_5c14_11ea_a025_681729d5ae93row0_col1\" class=\"data row0 col1\" >$4.23</td>\n",
       "                        <td id=\"T_69077f78_5c14_11ea_a025_681729d5ae93row0_col2\" class=\"data row0 col2\" >$50.76</td>\n",
       "            </tr>\n",
       "            <tr>\n",
       "                        <th id=\"T_69077f78_5c14_11ea_a025_681729d5ae93level0_row1\" class=\"row_heading level0 row1\" >145</th>\n",
       "                        <th id=\"T_69077f78_5c14_11ea_a025_681729d5ae93level1_row1\" class=\"row_heading level1 row1\" >Fiery Glass Crusader</th>\n",
       "                        <td id=\"T_69077f78_5c14_11ea_a025_681729d5ae93row1_col0\" class=\"data row1 col0\" >9</td>\n",
       "                        <td id=\"T_69077f78_5c14_11ea_a025_681729d5ae93row1_col1\" class=\"data row1 col1\" >$4.58</td>\n",
       "                        <td id=\"T_69077f78_5c14_11ea_a025_681729d5ae93row1_col2\" class=\"data row1 col2\" >$41.22</td>\n",
       "            </tr>\n",
       "            <tr>\n",
       "                        <th id=\"T_69077f78_5c14_11ea_a025_681729d5ae93level0_row2\" class=\"row_heading level0 row2\" >108</th>\n",
       "                        <th id=\"T_69077f78_5c14_11ea_a025_681729d5ae93level1_row2\" class=\"row_heading level1 row2\" >Extraction, Quickblade Of Trembling Hands</th>\n",
       "                        <td id=\"T_69077f78_5c14_11ea_a025_681729d5ae93row2_col0\" class=\"data row2 col0\" >9</td>\n",
       "                        <td id=\"T_69077f78_5c14_11ea_a025_681729d5ae93row2_col1\" class=\"data row2 col1\" >$3.53</td>\n",
       "                        <td id=\"T_69077f78_5c14_11ea_a025_681729d5ae93row2_col2\" class=\"data row2 col2\" >$31.77</td>\n",
       "            </tr>\n",
       "            <tr>\n",
       "                        <th id=\"T_69077f78_5c14_11ea_a025_681729d5ae93level0_row3\" class=\"row_heading level0 row3\" >82</th>\n",
       "                        <th id=\"T_69077f78_5c14_11ea_a025_681729d5ae93level1_row3\" class=\"row_heading level1 row3\" >Nirvana</th>\n",
       "                        <td id=\"T_69077f78_5c14_11ea_a025_681729d5ae93row3_col0\" class=\"data row3 col0\" >9</td>\n",
       "                        <td id=\"T_69077f78_5c14_11ea_a025_681729d5ae93row3_col1\" class=\"data row3 col1\" >$4.90</td>\n",
       "                        <td id=\"T_69077f78_5c14_11ea_a025_681729d5ae93row3_col2\" class=\"data row3 col2\" >$44.10</td>\n",
       "            </tr>\n",
       "            <tr>\n",
       "                        <th id=\"T_69077f78_5c14_11ea_a025_681729d5ae93level0_row4\" class=\"row_heading level0 row4\" >19</th>\n",
       "                        <th id=\"T_69077f78_5c14_11ea_a025_681729d5ae93level1_row4\" class=\"row_heading level1 row4\" >Pursuit, Cudgel of Necromancy</th>\n",
       "                        <td id=\"T_69077f78_5c14_11ea_a025_681729d5ae93row4_col0\" class=\"data row4 col0\" >8</td>\n",
       "                        <td id=\"T_69077f78_5c14_11ea_a025_681729d5ae93row4_col1\" class=\"data row4 col1\" >$1.02</td>\n",
       "                        <td id=\"T_69077f78_5c14_11ea_a025_681729d5ae93row4_col2\" class=\"data row4 col2\" >$8.16</td>\n",
       "            </tr>\n",
       "    </tbody></table>"
      ],
      "text/plain": [
       "<pandas.io.formats.style.Styler at 0x1d663471d88>"
      ]
     },
     "execution_count": 9,
     "metadata": {},
     "output_type": "execute_result"
    }
   ],
   "source": [
    "#create data frame with only item id, item name, and price columns\n",
    "items_df = purchase_data[[\"Item ID\",\"Item Name\",\"Price\"]]\n",
    "\n",
    "#group data frame by item id and item name\n",
    "items_grouped = items_df.groupby(['Item ID','Item Name'])\n",
    "\n",
    "#create variables\n",
    "item_total = items_grouped['Item Name'].count()\n",
    "item_price = items_grouped['Price'].mean()\n",
    "item_purch_total = items_grouped['Price'].sum()\n",
    "\n",
    "#put variables into data frame\n",
    "item_summary_df = pd.DataFrame({\"Purchase Count\":item_total,\"Item Price\": item_price,\n",
    "                          \"Total Purchase Value\": item_purch_total})\n",
    "\n",
    "#sort data frame by purchase count\n",
    "item_summary_df= item_summary_df.sort_values(by='Purchase Count',ascending = False)\n",
    "\n",
    "#display data\n",
    "item_summary_df.head().style.format({\"Item Price\": \"${:0,.2f}\", \n",
    "                                 \"Total Purchase Value\": \"${:0,.2f}\"})"
   ]
  },
  {
   "cell_type": "markdown",
   "metadata": {},
   "source": [
    "## Most Profitable Items"
   ]
  },
  {
   "cell_type": "markdown",
   "metadata": {},
   "source": [
    "* Sort the above table by total purchase value in descending order\n",
    "\n",
    "\n",
    "* Optional: give the displayed data cleaner formatting\n",
    "\n",
    "\n",
    "* Display a preview of the data frame\n",
    "\n"
   ]
  },
  {
   "cell_type": "code",
   "execution_count": 10,
   "metadata": {
    "scrolled": true
   },
   "outputs": [
    {
     "data": {
      "text/html": [
       "<style  type=\"text/css\" >\n",
       "</style><table id=\"T_6909c888_5c14_11ea_930c_681729d5ae93\" ><thead>    <tr>        <th class=\"blank\" ></th>        <th class=\"blank level0\" ></th>        <th class=\"col_heading level0 col0\" >Purchase Count</th>        <th class=\"col_heading level0 col1\" >Item Price</th>        <th class=\"col_heading level0 col2\" >Total Purchase Value</th>    </tr>    <tr>        <th class=\"index_name level0\" >Item ID</th>        <th class=\"index_name level1\" >Item Name</th>        <th class=\"blank\" ></th>        <th class=\"blank\" ></th>        <th class=\"blank\" ></th>    </tr></thead><tbody>\n",
       "                <tr>\n",
       "                        <th id=\"T_6909c888_5c14_11ea_930c_681729d5ae93level0_row0\" class=\"row_heading level0 row0\" >178</th>\n",
       "                        <th id=\"T_6909c888_5c14_11ea_930c_681729d5ae93level1_row0\" class=\"row_heading level1 row0\" >Oathbreaker, Last Hope of the Breaking Storm</th>\n",
       "                        <td id=\"T_6909c888_5c14_11ea_930c_681729d5ae93row0_col0\" class=\"data row0 col0\" >12</td>\n",
       "                        <td id=\"T_6909c888_5c14_11ea_930c_681729d5ae93row0_col1\" class=\"data row0 col1\" >$4.23</td>\n",
       "                        <td id=\"T_6909c888_5c14_11ea_930c_681729d5ae93row0_col2\" class=\"data row0 col2\" >$50.76</td>\n",
       "            </tr>\n",
       "            <tr>\n",
       "                        <th id=\"T_6909c888_5c14_11ea_930c_681729d5ae93level0_row1\" class=\"row_heading level0 row1\" >82</th>\n",
       "                        <th id=\"T_6909c888_5c14_11ea_930c_681729d5ae93level1_row1\" class=\"row_heading level1 row1\" >Nirvana</th>\n",
       "                        <td id=\"T_6909c888_5c14_11ea_930c_681729d5ae93row1_col0\" class=\"data row1 col0\" >9</td>\n",
       "                        <td id=\"T_6909c888_5c14_11ea_930c_681729d5ae93row1_col1\" class=\"data row1 col1\" >$4.90</td>\n",
       "                        <td id=\"T_6909c888_5c14_11ea_930c_681729d5ae93row1_col2\" class=\"data row1 col2\" >$44.10</td>\n",
       "            </tr>\n",
       "            <tr>\n",
       "                        <th id=\"T_6909c888_5c14_11ea_930c_681729d5ae93level0_row2\" class=\"row_heading level0 row2\" >145</th>\n",
       "                        <th id=\"T_6909c888_5c14_11ea_930c_681729d5ae93level1_row2\" class=\"row_heading level1 row2\" >Fiery Glass Crusader</th>\n",
       "                        <td id=\"T_6909c888_5c14_11ea_930c_681729d5ae93row2_col0\" class=\"data row2 col0\" >9</td>\n",
       "                        <td id=\"T_6909c888_5c14_11ea_930c_681729d5ae93row2_col1\" class=\"data row2 col1\" >$4.58</td>\n",
       "                        <td id=\"T_6909c888_5c14_11ea_930c_681729d5ae93row2_col2\" class=\"data row2 col2\" >$41.22</td>\n",
       "            </tr>\n",
       "            <tr>\n",
       "                        <th id=\"T_6909c888_5c14_11ea_930c_681729d5ae93level0_row3\" class=\"row_heading level0 row3\" >92</th>\n",
       "                        <th id=\"T_6909c888_5c14_11ea_930c_681729d5ae93level1_row3\" class=\"row_heading level1 row3\" >Final Critic</th>\n",
       "                        <td id=\"T_6909c888_5c14_11ea_930c_681729d5ae93row3_col0\" class=\"data row3 col0\" >8</td>\n",
       "                        <td id=\"T_6909c888_5c14_11ea_930c_681729d5ae93row3_col1\" class=\"data row3 col1\" >$4.88</td>\n",
       "                        <td id=\"T_6909c888_5c14_11ea_930c_681729d5ae93row3_col2\" class=\"data row3 col2\" >$39.04</td>\n",
       "            </tr>\n",
       "            <tr>\n",
       "                        <th id=\"T_6909c888_5c14_11ea_930c_681729d5ae93level0_row4\" class=\"row_heading level0 row4\" >103</th>\n",
       "                        <th id=\"T_6909c888_5c14_11ea_930c_681729d5ae93level1_row4\" class=\"row_heading level1 row4\" >Singed Scalpel</th>\n",
       "                        <td id=\"T_6909c888_5c14_11ea_930c_681729d5ae93row4_col0\" class=\"data row4 col0\" >8</td>\n",
       "                        <td id=\"T_6909c888_5c14_11ea_930c_681729d5ae93row4_col1\" class=\"data row4 col1\" >$4.35</td>\n",
       "                        <td id=\"T_6909c888_5c14_11ea_930c_681729d5ae93row4_col2\" class=\"data row4 col2\" >$34.80</td>\n",
       "            </tr>\n",
       "    </tbody></table>"
      ],
      "text/plain": [
       "<pandas.io.formats.style.Styler at 0x1d6634aad48>"
      ]
     },
     "execution_count": 10,
     "metadata": {},
     "output_type": "execute_result"
    }
   ],
   "source": [
    "#take same information as above -> just changing the sort by to total purchase value column\n",
    "item_summary_df= item_summary_df.sort_values(by= 'Total Purchase Value',ascending = False)\n",
    "\n",
    "#display data\n",
    "item_summary_df.head().style.format({\"Item Price\": \"${:0,.2f}\", \n",
    "                                 \"Total Purchase Value\": \"${:0,.2f}\"})"
   ]
  },
  {
   "cell_type": "code",
   "execution_count": null,
   "metadata": {},
   "outputs": [],
   "source": []
  }
 ],
 "metadata": {
  "anaconda-cloud": {},
  "kernel_info": {
   "name": "python3"
  },
  "kernelspec": {
   "display_name": "Python 3",
   "language": "python",
   "name": "python3"
  },
  "language_info": {
   "codemirror_mode": {
    "name": "ipython",
    "version": 3
   },
   "file_extension": ".py",
   "mimetype": "text/x-python",
   "name": "python",
   "nbconvert_exporter": "python",
   "pygments_lexer": "ipython3",
   "version": "3.7.4"
  },
  "latex_envs": {
   "LaTeX_envs_menu_present": true,
   "autoclose": false,
   "autocomplete": true,
   "bibliofile": "biblio.bib",
   "cite_by": "apalike",
   "current_citInitial": 1,
   "eqLabelWithNumbers": true,
   "eqNumInitial": 1,
   "hotkeys": {
    "equation": "Ctrl-E",
    "itemize": "Ctrl-I"
   },
   "labels_anchors": false,
   "latex_user_defs": false,
   "report_style_numbering": false,
   "user_envs_cfg": false
  },
  "nteract": {
   "version": "0.2.0"
  }
 },
 "nbformat": 4,
 "nbformat_minor": 2
}
